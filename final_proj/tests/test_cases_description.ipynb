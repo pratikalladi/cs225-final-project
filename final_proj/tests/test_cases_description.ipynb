{
 "cells": [
  {
   "cell_type": "markdown",
   "metadata": {},
   "source": [
    "### For the Dijkstra's algorithm, a few test cases were written."
   ]
  },
  {
   "cell_type": "markdown",
   "metadata": {},
   "source": [
    "## Test case 1\n",
    "This set of test cases involves the graph shown by this image."
   ]
  },
  {
   "cell_type": "markdown",
   "metadata": {},
   "source": [
    "<img src=\"/workspaces/cs225env/cs225-final-project/final_proj/tests/media/1.jpg\">"
   ]
  },
  {
   "cell_type": "markdown",
   "metadata": {},
   "source": [
    "## Test case 2\n",
    "This set of test cases involves the graph shown by this image.\n",
    "\n",
    "<img src=\"/workspaces/cs225env/cs225-final-project/final_proj/tests/media/2.jpg\">"
   ]
  },
  {
   "cell_type": "markdown",
   "metadata": {},
   "source": [
    "## Test case 3\n",
    "This set of test cases involves the graph shown by this image.\n",
    "\n",
    "<img src=\"/workspaces/cs225env/cs225-final-project/final_proj/tests/media/3.png\">"
   ]
  }
 ],
 "metadata": {
  "kernelspec": {
   "display_name": "Python 3.10.4 64-bit",
   "language": "python",
   "name": "python3"
  },
  "language_info": {
   "name": "python",
   "version": "3.10.4"
  },
  "orig_nbformat": 4,
  "vscode": {
   "interpreter": {
    "hash": "916dbcbb3f70747c44a77c7bcd40155683ae19c65e1c03b4aa3499c5328201f1"
   }
  }
 },
 "nbformat": 4,
 "nbformat_minor": 2
}
